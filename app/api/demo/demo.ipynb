{
 "cells": [
  {
   "cell_type": "code",
   "execution_count": 5,
   "id": "62756a66",
   "metadata": {},
   "outputs": [
    {
     "name": "stderr",
     "output_type": "stream",
     "text": [
      "/home/fariq.rahman/miniconda3/envs/RAG/lib/python3.11/site-packages/tqdm/auto.py:21: TqdmWarning: IProgress not found. Please update jupyter and ipywidgets. See https://ipywidgets.readthedocs.io/en/stable/user_install.html\n",
      "  from .autonotebook import tqdm as notebook_tqdm\n"
     ]
    }
   ],
   "source": [
    "from pymilvus import MilvusClient\n",
    "\n",
    "from config import (\n",
    "    MILVUS_URI, MILVUS_TOKEN\n",
    ")\n",
    "\n",
    "\n",
    "\n",
    "\n",
    "async def get_milvus_client(uri: str = MILVUS_URI, token: str = MILVUS_TOKEN, db_name: str = None):\n",
    "    \"\"\"\n",
    "    Returns a MilvusClient instance.\n",
    "    \n",
    "    If db_name is provided, connects to that database.\n",
    "    If not, connects using default database.\n",
    "    \"\"\"\n",
    "    try:\n",
    "        if db_name:\n",
    "            return MilvusClient(uri=uri, token=token, db_name=db_name)\n",
    "        return MilvusClient(uri=uri, token=token)\n",
    "    except Exception as e:\n",
    "        print(f\"Failed to connect to Milvus (db_name={db_name}): {e}\")"
   ]
  },
  {
   "cell_type": "code",
   "execution_count": 6,
   "id": "fb04ea43",
   "metadata": {},
   "outputs": [],
   "source": [
    "milvus_client=await get_milvus_client(db_name=\"kapture\")"
   ]
  },
  {
   "cell_type": "code",
   "execution_count": 17,
   "id": "619eeaa9",
   "metadata": {},
   "outputs": [
    {
     "data": {
      "text/plain": [
       "['__class__',\n",
       " '__delattr__',\n",
       " '__dict__',\n",
       " '__dir__',\n",
       " '__doc__',\n",
       " '__eq__',\n",
       " '__format__',\n",
       " '__ge__',\n",
       " '__getattribute__',\n",
       " '__getstate__',\n",
       " '__gt__',\n",
       " '__hash__',\n",
       " '__init__',\n",
       " '__init_subclass__',\n",
       " '__le__',\n",
       " '__lt__',\n",
       " '__module__',\n",
       " '__ne__',\n",
       " '__new__',\n",
       " '__reduce__',\n",
       " '__reduce_ex__',\n",
       " '__repr__',\n",
       " '__setattr__',\n",
       " '__sizeof__',\n",
       " '__str__',\n",
       " '__subclasshook__',\n",
       " '__weakref__',\n",
       " '_create_collection_with_schema',\n",
       " '_create_connection',\n",
       " '_create_index',\n",
       " '_extract_primary_field',\n",
       " '_fast_create_collection',\n",
       " '_get_connection',\n",
       " '_pack_pks_expr',\n",
       " '_using',\n",
       " 'add_privileges_to_group',\n",
       " 'alter_alias',\n",
       " 'alter_collection_field',\n",
       " 'alter_collection_properties',\n",
       " 'alter_database_properties',\n",
       " 'alter_index_properties',\n",
       " 'close',\n",
       " 'compact',\n",
       " 'create_alias',\n",
       " 'create_collection',\n",
       " 'create_database',\n",
       " 'create_index',\n",
       " 'create_partition',\n",
       " 'create_privilege_group',\n",
       " 'create_resource_group',\n",
       " 'create_role',\n",
       " 'create_schema',\n",
       " 'create_user',\n",
       " 'delete',\n",
       " 'describe_alias',\n",
       " 'describe_collection',\n",
       " 'describe_database',\n",
       " 'describe_index',\n",
       " 'describe_replica',\n",
       " 'describe_resource_group',\n",
       " 'describe_role',\n",
       " 'describe_user',\n",
       " 'drop_alias',\n",
       " 'drop_collection',\n",
       " 'drop_collection_properties',\n",
       " 'drop_database',\n",
       " 'drop_database_properties',\n",
       " 'drop_index',\n",
       " 'drop_index_properties',\n",
       " 'drop_partition',\n",
       " 'drop_privilege_group',\n",
       " 'drop_resource_group',\n",
       " 'drop_role',\n",
       " 'drop_user',\n",
       " 'flush',\n",
       " 'get',\n",
       " 'get_collection_stats',\n",
       " 'get_compaction_state',\n",
       " 'get_load_state',\n",
       " 'get_partition_stats',\n",
       " 'get_server_version',\n",
       " 'grant_privilege',\n",
       " 'grant_privilege_v2',\n",
       " 'grant_role',\n",
       " 'has_collection',\n",
       " 'has_partition',\n",
       " 'hybrid_search',\n",
       " 'insert',\n",
       " 'is_self_hosted',\n",
       " 'list_aliases',\n",
       " 'list_collections',\n",
       " 'list_databases',\n",
       " 'list_indexes',\n",
       " 'list_partitions',\n",
       " 'list_privilege_groups',\n",
       " 'list_resource_groups',\n",
       " 'list_roles',\n",
       " 'list_users',\n",
       " 'load_collection',\n",
       " 'load_partitions',\n",
       " 'prepare_index_params',\n",
       " 'query',\n",
       " 'query_iterator',\n",
       " 'refresh_load',\n",
       " 'release_collection',\n",
       " 'release_partitions',\n",
       " 'remove_privileges_from_group',\n",
       " 'rename_collection',\n",
       " 'revoke_privilege',\n",
       " 'revoke_privilege_v2',\n",
       " 'revoke_role',\n",
       " 'run_analyzer',\n",
       " 'search',\n",
       " 'search_iterator',\n",
       " 'transfer_replica',\n",
       " 'update_password',\n",
       " 'update_resource_groups',\n",
       " 'upsert',\n",
       " 'use_database',\n",
       " 'using_database']"
      ]
     },
     "execution_count": 17,
     "metadata": {},
     "output_type": "execute_result"
    }
   ],
   "source": [
    "dir(milvus_client)"
   ]
  },
  {
   "cell_type": "code",
   "execution_count": null,
   "id": "a1fbc7f7",
   "metadata": {},
   "outputs": [],
   "source": [
    "if milvus_client.drop_database('iud'):\n",
    "    print(\"hg\")\n",
    "else:\n",
    "    print(\"hdddb\")"
   ]
  },
  {
   "cell_type": "code",
   "execution_count": null,
   "id": "93951105",
   "metadata": {},
   "outputs": [],
   "source": [
    "milvus_client.list_databases()"
   ]
  },
  {
   "cell_type": "code",
   "execution_count": 18,
   "id": "6f8570c9",
   "metadata": {},
   "outputs": [
    {
     "data": {
      "text/plain": [
       "['far', 'far1', 'qdrant']"
      ]
     },
     "execution_count": 18,
     "metadata": {},
     "output_type": "execute_result"
    }
   ],
   "source": [
    "milvus_client.list_collections()"
   ]
  },
  {
   "cell_type": "code",
   "execution_count": 4,
   "id": "cfe43ee5",
   "metadata": {},
   "outputs": [
    {
     "name": "stdout",
     "output_type": "stream",
     "text": [
      "/home/fariq.rahman/work/Auto_QA_Components/AUTOQA_RAG/app\n"
     ]
    }
   ],
   "source": [
    "%cd .."
   ]
  },
  {
   "cell_type": "code",
   "execution_count": 14,
   "id": "c982b727",
   "metadata": {},
   "outputs": [
    {
     "data": {
      "text/plain": [
       "['far', 'far1', 'qdrant']"
      ]
     },
     "execution_count": 14,
     "metadata": {},
     "output_type": "execute_result"
    }
   ],
   "source": [
    "milvus_client.list_collections()"
   ]
  },
  {
   "cell_type": "code",
   "execution_count": null,
   "id": "c238ca96",
   "metadata": {},
   "outputs": [],
   "source": []
  }
 ],
 "metadata": {
  "kernelspec": {
   "display_name": "RAG",
   "language": "python",
   "name": "python3"
  },
  "language_info": {
   "codemirror_mode": {
    "name": "ipython",
    "version": 3
   },
   "file_extension": ".py",
   "mimetype": "text/x-python",
   "name": "python",
   "nbconvert_exporter": "python",
   "pygments_lexer": "ipython3",
   "version": "3.11.13"
  }
 },
 "nbformat": 4,
 "nbformat_minor": 5
}
